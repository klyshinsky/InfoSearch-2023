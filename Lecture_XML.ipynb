{
 "cells": [
  {
   "cell_type": "markdown",
   "metadata": {},
   "source": [
    "## XML\n",
    "\n",
    "Краткое [введение в XML в картинках](https://habr.com/ru/post/524288/).  \n",
    "Краткий [учебник по XML](https://msiter.ru/tutorials/uchebnik-xml-dlya-nachinayushchih/xml-dtd).  \n",
    "Ссылка на [Википедию](https://ru.wikipedia.org/wiki/XML).  \n",
    "Ссылка на [документацию](https://docs.python.org/3/library/xml.etree.elementtree.html).  \n"
   ]
  },
  {
   "cell_type": "markdown",
   "metadata": {},
   "source": [
    "Разберем следующий документ."
   ]
  },
  {
   "cell_type": "markdown",
   "metadata": {},
   "source": [
    "```xml\n",
    "<?xml version=\"1.0\" encoding=\"utf-8\"?>\n",
    "<!DOCTYPE recipe>\n",
    "<recipe name=\"хлеб\" preptime=\"5min\" cooktime=\"180min\">\n",
    "   <title>\n",
    "      Простой хлеб\n",
    "   </title>\n",
    "   <composition>\n",
    "      <ingredient amount=\"3\" unit=\"стакан\">Мука</ingredient>\n",
    "      <ingredient amount=\"0.25\" unit=\"грамм\">Дрожжи</ingredient>\n",
    "      <ingredient amount=\"1.5\" unit=\"стакан\">Тёплая вода</ingredient>\n",
    "   </composition>\n",
    "   <instructions>\n",
    "     <step>\n",
    "        Смешать все ингредиенты и тщательно замесить. \n",
    "     </step>\n",
    "     <step>\n",
    "        Закрыть тканью и оставить на один час в тёплом помещении. \n",
    "     </step>\n",
    "     <!-- \n",
    "        <step>\n",
    "           Почитать вчерашнюю газету. \n",
    "        </step>\n",
    "         - это сомнительный шаг...\n",
    "      -->\n",
    "     <step>\n",
    "        Замесить ещё раз, положить на противень и поставить в духовку.\n",
    "     </step>\n",
    "   </instructions>\n",
    "</recipe>\n",
    "```"
   ]
  },
  {
   "cell_type": "markdown",
   "metadata": {},
   "source": [
    "<title name=\"Простой хлеб\"/>\n",
    "<ingredient ingr=\"Мука\" amount=\"3\" unit=\"стакан\"/>"
   ]
  },
  {
   "cell_type": "code",
   "execution_count": 1,
   "metadata": {},
   "outputs": [],
   "source": [
    "import xml.etree.ElementTree as ET"
   ]
  },
  {
   "cell_type": "code",
   "execution_count": 2,
   "metadata": {},
   "outputs": [],
   "source": [
    "tree = ET.parse('1.xml')\n",
    "root = tree.getroot()"
   ]
  },
  {
   "cell_type": "code",
   "execution_count": 3,
   "metadata": {},
   "outputs": [],
   "source": [
    "with open(\"1.xml\") as infile:\n",
    "    data_string = infile.read()\n",
    "root2 = ET.fromstring(data_string)"
   ]
  },
  {
   "cell_type": "code",
   "execution_count": 3,
   "metadata": {},
   "outputs": [
    {
     "data": {
      "text/plain": [
       "<xml.etree.ElementTree.ElementTree at 0x7f61c28ec460>"
      ]
     },
     "execution_count": 3,
     "metadata": {},
     "output_type": "execute_result"
    }
   ],
   "source": [
    "tree"
   ]
  },
  {
   "cell_type": "code",
   "execution_count": 4,
   "metadata": {},
   "outputs": [
    {
     "data": {
      "text/plain": [
       "<Element 'recipe' at 0x7f61c0749f80>"
      ]
     },
     "execution_count": 4,
     "metadata": {},
     "output_type": "execute_result"
    }
   ],
   "source": [
    "root"
   ]
  },
  {
   "cell_type": "code",
   "execution_count": 5,
   "metadata": {},
   "outputs": [
    {
     "data": {
      "text/plain": [
       "['__class__',\n",
       " '__delattr__',\n",
       " '__dict__',\n",
       " '__dir__',\n",
       " '__doc__',\n",
       " '__eq__',\n",
       " '__format__',\n",
       " '__ge__',\n",
       " '__getattribute__',\n",
       " '__gt__',\n",
       " '__hash__',\n",
       " '__init__',\n",
       " '__init_subclass__',\n",
       " '__le__',\n",
       " '__lt__',\n",
       " '__module__',\n",
       " '__ne__',\n",
       " '__new__',\n",
       " '__reduce__',\n",
       " '__reduce_ex__',\n",
       " '__repr__',\n",
       " '__setattr__',\n",
       " '__sizeof__',\n",
       " '__str__',\n",
       " '__subclasshook__',\n",
       " '__weakref__',\n",
       " '_root',\n",
       " '_setroot',\n",
       " 'find',\n",
       " 'findall',\n",
       " 'findtext',\n",
       " 'getroot',\n",
       " 'iter',\n",
       " 'iterfind',\n",
       " 'parse',\n",
       " 'write',\n",
       " 'write_c14n']"
      ]
     },
     "execution_count": 5,
     "metadata": {},
     "output_type": "execute_result"
    }
   ],
   "source": [
    "dir(tree)"
   ]
  },
  {
   "cell_type": "code",
   "execution_count": 6,
   "metadata": {
    "scrolled": false
   },
   "outputs": [
    {
     "data": {
      "text/plain": [
       "['__class__',\n",
       " '__copy__',\n",
       " '__deepcopy__',\n",
       " '__delattr__',\n",
       " '__delitem__',\n",
       " '__dir__',\n",
       " '__doc__',\n",
       " '__eq__',\n",
       " '__format__',\n",
       " '__ge__',\n",
       " '__getattribute__',\n",
       " '__getitem__',\n",
       " '__getstate__',\n",
       " '__gt__',\n",
       " '__hash__',\n",
       " '__init__',\n",
       " '__init_subclass__',\n",
       " '__le__',\n",
       " '__len__',\n",
       " '__lt__',\n",
       " '__ne__',\n",
       " '__new__',\n",
       " '__reduce__',\n",
       " '__reduce_ex__',\n",
       " '__repr__',\n",
       " '__setattr__',\n",
       " '__setitem__',\n",
       " '__setstate__',\n",
       " '__sizeof__',\n",
       " '__str__',\n",
       " '__subclasshook__',\n",
       " 'append',\n",
       " 'attrib',\n",
       " 'clear',\n",
       " 'extend',\n",
       " 'find',\n",
       " 'findall',\n",
       " 'findtext',\n",
       " 'get',\n",
       " 'insert',\n",
       " 'items',\n",
       " 'iter',\n",
       " 'iterfind',\n",
       " 'itertext',\n",
       " 'keys',\n",
       " 'makeelement',\n",
       " 'remove',\n",
       " 'set',\n",
       " 'tag',\n",
       " 'tail',\n",
       " 'text']"
      ]
     },
     "execution_count": 6,
     "metadata": {},
     "output_type": "execute_result"
    }
   ],
   "source": [
    "dir(root)"
   ]
  },
  {
   "cell_type": "code",
   "execution_count": 4,
   "metadata": {},
   "outputs": [
    {
     "name": "stdout",
     "output_type": "stream",
     "text": [
      "recipe\n",
      "{'name': 'хлеб', 'preptime': '5min', 'cooktime': '180min'}\n"
     ]
    }
   ],
   "source": [
    "print(root.tag)\n",
    "print(root.attrib)"
   ]
  },
  {
   "cell_type": "code",
   "execution_count": 9,
   "metadata": {},
   "outputs": [
    {
     "name": "stdout",
     "output_type": "stream",
     "text": [
      "title {}\n",
      "composition {}\n",
      "instructions {}\n"
     ]
    }
   ],
   "source": [
    "for child in root:\n",
    "    print(child.tag, child.attrib)"
   ]
  },
  {
   "cell_type": "code",
   "execution_count": 5,
   "metadata": {},
   "outputs": [
    {
     "data": {
      "text/plain": [
       "(xml.etree.ElementTree.Element, xml.etree.ElementTree.Element)"
      ]
     },
     "execution_count": 5,
     "metadata": {},
     "output_type": "execute_result"
    }
   ],
   "source": [
    "type(root), type(root[0])"
   ]
  },
  {
   "cell_type": "code",
   "execution_count": 6,
   "metadata": {},
   "outputs": [
    {
     "data": {
      "text/plain": [
       "'\\n      Простой хлеб\\n   '"
      ]
     },
     "execution_count": 6,
     "metadata": {},
     "output_type": "execute_result"
    }
   ],
   "source": [
    "root[0].text"
   ]
  },
  {
   "cell_type": "code",
   "execution_count": 9,
   "metadata": {},
   "outputs": [
    {
     "data": {
      "text/plain": [
       "'Мука'"
      ]
     },
     "execution_count": 9,
     "metadata": {},
     "output_type": "execute_result"
    }
   ],
   "source": [
    "root[1][0].text"
   ]
  },
  {
   "cell_type": "code",
   "execution_count": 8,
   "metadata": {},
   "outputs": [
    {
     "name": "stdout",
     "output_type": "stream",
     "text": [
      "\n",
      "        Смешать все ингредиенты и тщательно замесить. \n",
      "     \n",
      "\n",
      "        Закрыть тканью и оставить на один час в тёплом помещении. \n",
      "     \n",
      "\n",
      "        Замесить ещё раз, положить на противень и поставить в духовку.\n",
      "     \n"
     ]
    }
   ],
   "source": [
    "for step in root[2].iter('step'):\n",
    "    print(step.text)"
   ]
  },
  {
   "cell_type": "code",
   "execution_count": 9,
   "metadata": {},
   "outputs": [],
   "source": [
    "for step in root.findall(\"step\"):\n",
    "    print(step.text)"
   ]
  },
  {
   "cell_type": "code",
   "execution_count": 10,
   "metadata": {},
   "outputs": [
    {
     "name": "stdout",
     "output_type": "stream",
     "text": [
      "\n",
      "        Смешать все ингредиенты и тщательно замесить. \n",
      "     \n",
      "\n",
      "        Закрыть тканью и оставить на один час в тёплом помещении. \n",
      "     \n",
      "\n",
      "        Замесить ещё раз, положить на противень и поставить в духовку.\n",
      "     \n"
     ]
    }
   ],
   "source": [
    "for step in root[2].findall(\"step\"):\n",
    "    print(step.text)"
   ]
  },
  {
   "cell_type": "code",
   "execution_count": 13,
   "metadata": {},
   "outputs": [
    {
     "data": {
      "text/plain": [
       "<_elementtree._element_iterator at 0x7fb98434a5c0>"
      ]
     },
     "execution_count": 13,
     "metadata": {},
     "output_type": "execute_result"
    }
   ],
   "source": [
    "root.iter('step')"
   ]
  },
  {
   "cell_type": "code",
   "execution_count": 14,
   "metadata": {},
   "outputs": [
    {
     "data": {
      "text/plain": [
       "[<Element 'step' at 0x7fb984348e50>,\n",
       " <Element 'step' at 0x7fb984348ea0>,\n",
       " <Element 'step' at 0x7fb984348ef0>]"
      ]
     },
     "execution_count": 14,
     "metadata": {},
     "output_type": "execute_result"
    }
   ],
   "source": [
    "list(root.iter(\"step\"))"
   ]
  },
  {
   "cell_type": "code",
   "execution_count": 11,
   "metadata": {},
   "outputs": [
    {
     "name": "stdout",
     "output_type": "stream",
     "text": [
      "Мука 3 стакан\n",
      "Дрожжи 0.25 грамм\n",
      "Тёплая вода 1.5 стакан\n"
     ]
    }
   ],
   "source": [
    "for ing in root[1].findall(\"ingredient\"):\n",
    "    print(ing.text, ing.get(\"amount\"), ing.get(\"unit\"))"
   ]
  },
  {
   "cell_type": "code",
   "execution_count": 12,
   "metadata": {},
   "outputs": [],
   "source": [
    "root[1][1].set(\"amount\", \"1\")\n",
    "root[1][1].text = \"Плохенькие дрожжи\""
   ]
  },
  {
   "cell_type": "code",
   "execution_count": 13,
   "metadata": {},
   "outputs": [
    {
     "name": "stdout",
     "output_type": "stream",
     "text": [
      "Мука 3 стакан\n",
      "Плохенькие дрожжи 1 грамм\n",
      "Тёплая вода 1.5 стакан\n"
     ]
    }
   ],
   "source": [
    "for ing in root[1].findall(\"ingredient\"):\n",
    "    print(ing.text, ing.get(\"amount\"), ing.get(\"unit\"))"
   ]
  },
  {
   "cell_type": "code",
   "execution_count": 14,
   "metadata": {},
   "outputs": [],
   "source": [
    "root[2].remove(root[2][1])"
   ]
  },
  {
   "cell_type": "code",
   "execution_count": 15,
   "metadata": {},
   "outputs": [
    {
     "name": "stdout",
     "output_type": "stream",
     "text": [
      "\n",
      "        Смешать все ингредиенты и тщательно замесить. \n",
      "     \n",
      "\n",
      "        Замесить ещё раз, положить на противень и поставить в духовку.\n",
      "     \n"
     ]
    }
   ],
   "source": [
    "for step in root[2].findall(\"step\"):\n",
    "    print(step.text)"
   ]
  },
  {
   "cell_type": "code",
   "execution_count": 16,
   "metadata": {},
   "outputs": [],
   "source": [
    "b = ET.SubElement(root[2], \"step\")\n",
    "b.text = \"\\n     Вспомнить, что надо было подождать, пока тесто подойдет.\\n     \"\n",
    "b.set(\"extra_data\", \"extra_value\")"
   ]
  },
  {
   "cell_type": "code",
   "execution_count": 17,
   "metadata": {},
   "outputs": [
    {
     "name": "stdout",
     "output_type": "stream",
     "text": [
      "\n",
      "        Смешать все ингредиенты и тщательно замесить. \n",
      "     \n",
      "\n",
      "        Замесить ещё раз, положить на противень и поставить в духовку.\n",
      "     \n",
      "\n",
      "     Вспомнить, что надо было подождать, пока тесто подойдет.\n",
      "     \n"
     ]
    }
   ],
   "source": [
    "for step in root[2].findall(\"step\"):\n",
    "    print(step.text)"
   ]
  },
  {
   "cell_type": "markdown",
   "metadata": {},
   "source": [
    "### XPath\n",
    "[Ссылка 1](https://habr.com/ru/post/526774/)\n",
    "\n",
    "[Ссылка 2](https://habr.com/ru/post/464897/)\n",
    "\n",
    "XPath позволяет задать шаблон для пути от корня XML-дерева к интересующей нас вершине.\n",
    "\n",
    "- . - корень XML-дерева\n",
    "- / - переход на один уровень ниже.\n",
    "- // - переход на ноль или больше уровней вниз.\n",
    "- \\* - любая вершина.\n",
    "- xyz - название вершины.\n",
    "- [@feature] - вершина с параметром feature.\n",
    "- [@feature='111'] - вершина с параметром feature, равным \"111\".\n",
    "- xyz[n] - n-ый потомок вершины xyz.\n",
    "- [func()] - вызов функции по имени."
   ]
  },
  {
   "cell_type": "markdown",
   "metadata": {},
   "source": [
    "Надо дополнить отсюда!!!  \n",
    "\n",
    "https://habr.com/ru/post/588773/\n",
    "\n",
    "https://soltau.ru/index.php/themes/dev/item/413"
   ]
  },
  {
   "cell_type": "code",
   "execution_count": 18,
   "metadata": {},
   "outputs": [
    {
     "name": "stdout",
     "output_type": "stream",
     "text": [
      "\n",
      "        Смешать все ингредиенты и тщательно замесить. \n",
      "     \n",
      "\n",
      "        Замесить ещё раз, положить на противень и поставить в духовку.\n",
      "     \n",
      "\n",
      "     Вспомнить, что надо было подождать, пока тесто подойдет.\n",
      "     \n"
     ]
    }
   ],
   "source": [
    "for step in root.findall(\"./*/step\"):\n",
    "    print(step.text)"
   ]
  },
  {
   "cell_type": "code",
   "execution_count": 21,
   "metadata": {},
   "outputs": [
    {
     "name": "stdout",
     "output_type": "stream",
     "text": [
      "\n",
      "        Смешать все ингредиенты и тщательно замесить. \n",
      "     \n",
      "\n",
      "        Замесить ещё раз, положить на противень и поставить в духовку.\n",
      "     \n",
      "\n",
      "     Вспомнить, что надо было подождать, пока тесто подойдет.\n",
      "     \n"
     ]
    }
   ],
   "source": [
    "for step in root.findall(\".//step\"):\n",
    "    print(step.text)"
   ]
  },
  {
   "cell_type": "markdown",
   "metadata": {},
   "source": [
    "А вот так ничего не найдется - надо указывать откуда искать."
   ]
  },
  {
   "cell_type": "code",
   "execution_count": 22,
   "metadata": {},
   "outputs": [],
   "source": [
    "for step in root.findall(\"step\"):\n",
    "    print(step.text)"
   ]
  },
  {
   "cell_type": "code",
   "execution_count": 23,
   "metadata": {},
   "outputs": [
    {
     "name": "stdout",
     "output_type": "stream",
     "text": [
      "Мука\n",
      "Тёплая вода\n"
     ]
    }
   ],
   "source": [
    "for step in root.findall(\"./*/ingredient[@unit='стакан']\"):\n",
    "    print(step.text)"
   ]
  },
  {
   "cell_type": "code",
   "execution_count": 24,
   "metadata": {},
   "outputs": [
    {
     "data": {
      "text/plain": [
       "[<Element 'ingredient' at 0x7ff36454b330>]"
      ]
     },
     "execution_count": 24,
     "metadata": {},
     "output_type": "execute_result"
    }
   ],
   "source": [
    "root.findall(\"./*/ingredient[@amount='3']\")"
   ]
  },
  {
   "cell_type": "code",
   "execution_count": 25,
   "metadata": {},
   "outputs": [
    {
     "data": {
      "text/plain": [
       "[<Element 'ingredient' at 0x7ff36454b330>,\n",
       " <Element 'ingredient' at 0x7ff36454b420>,\n",
       " <Element 'ingredient' at 0x7ff36454b470>]"
      ]
     },
     "execution_count": 25,
     "metadata": {},
     "output_type": "execute_result"
    }
   ],
   "source": [
    "root.findall(\".//*[@amount]\")"
   ]
  },
  {
   "cell_type": "code",
   "execution_count": 26,
   "metadata": {},
   "outputs": [
    {
     "data": {
      "text/plain": [
       "'Плохенькие дрожжи'"
      ]
     },
     "execution_count": 26,
     "metadata": {},
     "output_type": "execute_result"
    }
   ],
   "source": [
    "root.findall(\".//composition/ingredient[2]\")[0].text"
   ]
  },
  {
   "cell_type": "code",
   "execution_count": 27,
   "metadata": {},
   "outputs": [
    {
     "data": {
      "text/plain": [
       "'Тёплая вода'"
      ]
     },
     "execution_count": 27,
     "metadata": {},
     "output_type": "execute_result"
    }
   ],
   "source": [
    "root.findall(\".//composition/ingredient[last()]\")[0].text"
   ]
  },
  {
   "cell_type": "code",
   "execution_count": null,
   "metadata": {},
   "outputs": [],
   "source": []
  },
  {
   "cell_type": "code",
   "execution_count": 31,
   "metadata": {},
   "outputs": [
    {
     "data": {
      "text/plain": [
       "'Тёплая вода'"
      ]
     },
     "execution_count": 31,
     "metadata": {},
     "output_type": "execute_result"
    }
   ],
   "source": [
    "root.findtext('.//composition/ingredient[last()]')\n",
    "#root[1][0].text"
   ]
  },
  {
   "cell_type": "markdown",
   "metadata": {},
   "source": [
    "А теперь давайте посмотрим как мы можем при помощи XPath обрабатывать HTML-документы."
   ]
  },
  {
   "cell_type": "code",
   "execution_count": 28,
   "metadata": {},
   "outputs": [],
   "source": [
    "import requests\n",
    "from lxml import html"
   ]
  },
  {
   "cell_type": "code",
   "execution_count": 29,
   "metadata": {},
   "outputs": [],
   "source": [
    "page = requests.get('https://lenta.ru/news/2021/02/27/apple_effect/')"
   ]
  },
  {
   "cell_type": "code",
   "execution_count": 30,
   "metadata": {},
   "outputs": [
    {
     "data": {
      "text/plain": [
       "'<!DOCTYPE html><html lang=\"ru\"><head><title>Обнаружен неожиданный эффект от употребления яблок: Наука: Наука и техника: Lenta.ru</title><meta charset=\"utf-8\" /><meta content=\"#292929\" name=\"theme-color\" /><link href=\"https://m.lenta.ru/news/2021/02/27/apple_effect/\" media=\"only screen and (max-width: 640px)\" rel=\"alternate\" /><link href=\"https://lenta.ru/rss/google-newsstand/main/\" rel=\"alternate\" type=\"application/rss+xml\" /><link href=\"https://lenta.ru/news/2021/02/27/apple_effect/\" rel=\"canonical\" /><link href=\"/manifest.json\" rel=\"manifest\" /><link rel=\"shortcut icon\" type=\"image/x-icon\" href=\"https://icdn.lenta.ru/favicon.ico\" /><link rel=\"apple-touch-icon\" type=\"image/x-icon\" href=\"https://icdn.lenta.ru/images/icons/icon-256x256.png\" size=\"256x256\" /><link rel=\"apple-touch-icon\" type=\"image/x-icon\" href=\"https://icdn.lenta.ru/images/icons/icon-192x192.png\" size=\"192x192\" /><link rel=\"apple-touch-icon\" type=\"image/x-icon\" href=\"https://icdn.lenta.ru/images/icons/icon-152x152.png\" '"
      ]
     },
     "execution_count": 30,
     "metadata": {},
     "output_type": "execute_result"
    }
   ],
   "source": [
    "page.text[:1000]"
   ]
  },
  {
   "cell_type": "code",
   "execution_count": 32,
   "metadata": {},
   "outputs": [],
   "source": [
    "# tree = html.fromstring(page.text)\n",
    "# # Заголовок достается просто по тегу h1.\n",
    "# print(tree.xpath(\".//h1\")[0].text_content())\n",
    "# # Дата и время достается из тега <time class=\"topic-header__item topic-header__time\">\n",
    "# # Так как класс содерит в себе несколько имен, приходится применять contains().\n",
    "# print(tree.xpath(\".//time[contains(@class,'topic-header__time')]\")[0].text_content().strip())\n",
    "# # Автор обрамлен гиперссылкой с классом topic-authors__author.\n",
    "# print(tree.xpath(\".//a[contains(@class,'topic-authors__author')]\")[0].text_content().strip(), '\\n')\n",
    "# # По каждой статье имеется краткое описание в теге <meta property=\"og:description\"> в атрибуте content.\n",
    "# print(tree.xpath(\".//meta[@property='og:description']\")[0].get(\"content\"), '\\n')\n",
    "\n",
    "# # Текст статьи разложен по параграфам <p class=\"topic-body__content-text cbkbr\">\n",
    "# for p in tree.xpath(\".//p[contains(@class,'topic-body__content-text')]\"):\n",
    "#     print(p.text_content())\n",
    "    \n",
    "# # Просто чтобы показать, что можно вписать промежуточный узел, а то мало ли что у них оформлено как параграф.\n",
    "# print(\"---\")\n",
    "# tree.xpath(\".//div[contains(@class,'topic-body')]//p[contains(@class,'topic-body__content-text')]\")[0].text_content()\n",
    "\n",
    "\n",
    "\n",
    "tree = html.fromstring(page.text)\n",
    "ttl = tree.xpath(\".//h1\")[0].text_content()\n",
    "dscrptn = tree.xpath(\".//meta[@property='og:description']\")[0].get(\"content\")\n",
    "\n",
    "txt = '\\n'.join([p.text_content() for p in \n",
    "         tree.xpath(\".//div[contains(@class, '_news')]//p[contains(@class, 'topic-body__content-text')]\")]\n",
    "                )\n",
    "art_time = tree.xpath(\".//a[contains(@class, 'topic-header__time')]\")[0].text_content().strip()\n",
    "art_author = tree.xpath(\".//div[contains(@class, 'topic-authors')]\")[0].text_content().strip()\n",
    "\n",
    "\n"
   ]
  },
  {
   "cell_type": "code",
   "execution_count": 14,
   "metadata": {},
   "outputs": [
    {
     "data": {
      "text/plain": [
       "('Обнаружен неожиданный эффект от употребления яблок',\n",
       " 'Ученые из Университета Квинсленда и Немецкого центра нейродегенеративных заболеваний  обнаружили неожиданный эффект от употребления яблок. Опыты проводились на мышах. Специалисты культивировали стволовые клетки мозга взрослых мышей и добавляли в них содержащиеся в яблоках фитонутриенты.',\n",
       " 'Ученые из Университета Квинсленда и Немецкого центра нейродегенеративных заболеваний обнаружили неожиданный эффект от употребления яблок. Результаты исследования появились в научном журнале Stem Cell Reports.\\nОпыты проводились на мышах. Специалисты культивировали стволовые клетки мозга взрослых мышей и добавляли в них содержащиеся в яблоках фитонутриенты. Исследование показало, что высокая концентрация фитонутриентов способствует образованию новых нейронов.\\nПо словам ученых, определенные фитонутриенты положительно влияют на работу органов, в том числе мозга. Выяснилось, что они оказывают на организм тот же эффект, что и физическая активность, которая также стимулирует нейрогенез.\\nРанее ученые из Технологического университета австрийского Граца выяснили, что большинство людей неправильно едят яблоки. Исследователи утверждают, что до 90 процентов полезных веществ сосредоточены в сердцевине этого фрукта, и поэтому яблоко желательно съедать вместе с огрызком.')"
      ]
     },
     "execution_count": 14,
     "metadata": {},
     "output_type": "execute_result"
    }
   ],
   "source": [
    "ttl, dscrptn, txt"
   ]
  },
  {
   "cell_type": "markdown",
   "metadata": {},
   "source": [
    "А теперь та же страница, но через BeautyfulSoup."
   ]
  },
  {
   "cell_type": "code",
   "execution_count": 16,
   "metadata": {},
   "outputs": [],
   "source": [
    "from bs4 import BeautifulSoup as bs"
   ]
  },
  {
   "cell_type": "code",
   "execution_count": 17,
   "metadata": {},
   "outputs": [
    {
     "name": "stdout",
     "output_type": "stream",
     "text": [
      "Обнаружен неожиданный эффект от употребления яблок\n",
      "Соня Кошечкина\n",
      "Ученые из Университета Квинсленда и Немецкого центра нейродегенеративных заболеваний  обнаружили неожиданный эффект от употребления яблок. Опыты проводились на мышах. Специалисты культивировали стволовые клетки мозга взрослых мышей и добавляли в них содержащиеся в яблоках фитонутриенты. \n",
      "\n"
     ]
    },
    {
     "ename": "IndexError",
     "evalue": "list index out of range",
     "output_type": "error",
     "traceback": [
      "\u001b[0;31m---------------------------------------------------------------------------\u001b[0m",
      "\u001b[0;31mIndexError\u001b[0m                                Traceback (most recent call last)",
      "\u001b[0;32m/tmp/ipykernel_1393327/3961387239.py\u001b[0m in \u001b[0;36m<module>\u001b[0;34m\u001b[0m\n\u001b[1;32m      4\u001b[0m \u001b[0mprint\u001b[0m\u001b[0;34m(\u001b[0m\u001b[0msouped\u001b[0m\u001b[0;34m.\u001b[0m\u001b[0mfind_all\u001b[0m\u001b[0;34m(\u001b[0m\u001b[0;34m\"a\"\u001b[0m\u001b[0;34m,\u001b[0m \u001b[0mattrs\u001b[0m\u001b[0;34m=\u001b[0m\u001b[0;34m{\u001b[0m\u001b[0;34m'class'\u001b[0m\u001b[0;34m:\u001b[0m \u001b[0;34m'topic-authors__author'\u001b[0m\u001b[0;34m}\u001b[0m\u001b[0;34m)\u001b[0m\u001b[0;34m[\u001b[0m\u001b[0;36m0\u001b[0m\u001b[0;34m]\u001b[0m\u001b[0;34m.\u001b[0m\u001b[0mget_text\u001b[0m\u001b[0;34m(\u001b[0m\u001b[0;34m)\u001b[0m\u001b[0;34m)\u001b[0m\u001b[0;34m\u001b[0m\u001b[0;34m\u001b[0m\u001b[0m\n\u001b[1;32m      5\u001b[0m \u001b[0mprint\u001b[0m\u001b[0;34m(\u001b[0m\u001b[0msouped\u001b[0m\u001b[0;34m.\u001b[0m\u001b[0mfind_all\u001b[0m\u001b[0;34m(\u001b[0m\u001b[0;34m\"meta\"\u001b[0m\u001b[0;34m,\u001b[0m \u001b[0mattrs\u001b[0m\u001b[0;34m=\u001b[0m\u001b[0;34m{\u001b[0m\u001b[0;34m'property'\u001b[0m\u001b[0;34m:\u001b[0m \u001b[0;34m'og:description'\u001b[0m\u001b[0;34m}\u001b[0m\u001b[0;34m)\u001b[0m\u001b[0;34m[\u001b[0m\u001b[0;36m0\u001b[0m\u001b[0;34m]\u001b[0m\u001b[0;34m[\u001b[0m\u001b[0;34m\"content\"\u001b[0m\u001b[0;34m]\u001b[0m\u001b[0;34m,\u001b[0m \u001b[0;34m'\\n'\u001b[0m\u001b[0;34m)\u001b[0m\u001b[0;34m\u001b[0m\u001b[0;34m\u001b[0m\u001b[0m\n\u001b[0;32m----> 6\u001b[0;31m \u001b[0mprint\u001b[0m\u001b[0;34m(\u001b[0m\u001b[0msouped\u001b[0m\u001b[0;34m.\u001b[0m\u001b[0mfind_all\u001b[0m\u001b[0;34m(\u001b[0m\u001b[0;34m\"time\"\u001b[0m\u001b[0;34m,\u001b[0m \u001b[0mattrs\u001b[0m\u001b[0;34m=\u001b[0m\u001b[0;34m{\u001b[0m\u001b[0;34m'class'\u001b[0m\u001b[0;34m:\u001b[0m \u001b[0;34m'topic-header__time'\u001b[0m\u001b[0;34m}\u001b[0m\u001b[0;34m)\u001b[0m\u001b[0;34m[\u001b[0m\u001b[0;36m0\u001b[0m\u001b[0;34m]\u001b[0m\u001b[0;34m.\u001b[0m\u001b[0mget_text\u001b[0m\u001b[0;34m(\u001b[0m\u001b[0;34m)\u001b[0m\u001b[0;34m.\u001b[0m\u001b[0mstrip\u001b[0m\u001b[0;34m(\u001b[0m\u001b[0;34m)\u001b[0m\u001b[0;34m)\u001b[0m\u001b[0;34m\u001b[0m\u001b[0;34m\u001b[0m\u001b[0m\n\u001b[0m\u001b[1;32m      7\u001b[0m \u001b[0;34m\u001b[0m\u001b[0m\n\u001b[1;32m      8\u001b[0m \u001b[0;32mfor\u001b[0m \u001b[0mp\u001b[0m \u001b[0;32min\u001b[0m \u001b[0msouped\u001b[0m\u001b[0;34m.\u001b[0m\u001b[0mfind_all\u001b[0m\u001b[0;34m(\u001b[0m\u001b[0;34m\"p\"\u001b[0m\u001b[0;34m,\u001b[0m \u001b[0mattrs\u001b[0m\u001b[0;34m=\u001b[0m\u001b[0;34m{\u001b[0m\u001b[0;34m'class'\u001b[0m\u001b[0;34m:\u001b[0m \u001b[0;34m'topic-body__content-text'\u001b[0m\u001b[0;34m}\u001b[0m\u001b[0;34m)\u001b[0m\u001b[0;34m:\u001b[0m\u001b[0;34m\u001b[0m\u001b[0;34m\u001b[0m\u001b[0m\n",
      "\u001b[0;31mIndexError\u001b[0m: list index out of range"
     ]
    }
   ],
   "source": [
    "souped = bs(page.text)\n",
    "\n",
    "print(souped(\"h1\")[0].get_text())\n",
    "print(souped.find_all(\"a\", attrs={'class': 'topic-authors__author'})[0].get_text())\n",
    "print(souped.find_all(\"meta\", attrs={'property': 'og:description'})[0][\"content\"], '\\n')\n",
    "print(souped.find_all(\"time\", attrs={'class': 'topic-header__time'})[0].get_text().strip())\n",
    "\n",
    "for p in souped.find_all(\"p\", attrs={'class': 'topic-body__content-text'}): \n",
    "    print(p.get_text())"
   ]
  },
  {
   "cell_type": "markdown",
   "metadata": {},
   "source": [
    "Для разнообразия - другая страница с другого сайта."
   ]
  },
  {
   "cell_type": "code",
   "execution_count": 18,
   "metadata": {},
   "outputs": [],
   "source": [
    "page = requests.get('https://www.rbc.ru/economics/03/03/2021/603f848c9a7947bdd444102f?from=from_main_1')"
   ]
  },
  {
   "cell_type": "code",
   "execution_count": 19,
   "metadata": {},
   "outputs": [
    {
     "name": "stdout",
     "output_type": "stream",
     "text": [
      "\n",
      "                    ПМЭФ решили провести после данных о «постпандемийном переломе»\n",
      "\n",
      "                \n"
     ]
    },
    {
     "ename": "IndexError",
     "evalue": "list index out of range",
     "output_type": "error",
     "traceback": [
      "\u001b[0;31m---------------------------------------------------------------------------\u001b[0m",
      "\u001b[0;31mIndexError\u001b[0m                                Traceback (most recent call last)",
      "\u001b[0;32m/tmp/ipykernel_1393327/3329025230.py\u001b[0m in \u001b[0;36m<module>\u001b[0;34m\u001b[0m\n\u001b[1;32m      1\u001b[0m \u001b[0mtree\u001b[0m \u001b[0;34m=\u001b[0m \u001b[0mhtml\u001b[0m\u001b[0;34m.\u001b[0m\u001b[0mfromstring\u001b[0m\u001b[0;34m(\u001b[0m\u001b[0mpage\u001b[0m\u001b[0;34m.\u001b[0m\u001b[0mtext\u001b[0m\u001b[0;34m)\u001b[0m\u001b[0;34m\u001b[0m\u001b[0;34m\u001b[0m\u001b[0m\n\u001b[1;32m      2\u001b[0m \u001b[0mprint\u001b[0m\u001b[0;34m(\u001b[0m\u001b[0mtree\u001b[0m\u001b[0;34m.\u001b[0m\u001b[0mxpath\u001b[0m\u001b[0;34m(\u001b[0m\u001b[0;34m\".//h1\"\u001b[0m\u001b[0;34m)\u001b[0m\u001b[0;34m[\u001b[0m\u001b[0;36m0\u001b[0m\u001b[0;34m]\u001b[0m\u001b[0;34m.\u001b[0m\u001b[0mtext_content\u001b[0m\u001b[0;34m(\u001b[0m\u001b[0;34m)\u001b[0m\u001b[0;34m)\u001b[0m\u001b[0;34m\u001b[0m\u001b[0;34m\u001b[0m\u001b[0m\n\u001b[0;32m----> 3\u001b[0;31m \u001b[0mprint\u001b[0m\u001b[0;34m(\u001b[0m\u001b[0mtree\u001b[0m\u001b[0;34m.\u001b[0m\u001b[0mxpath\u001b[0m\u001b[0;34m(\u001b[0m\u001b[0;34m\".//span[@itemprop='datePublished']\"\u001b[0m\u001b[0;34m)\u001b[0m\u001b[0;34m[\u001b[0m\u001b[0;36m0\u001b[0m\u001b[0;34m]\u001b[0m\u001b[0;34m.\u001b[0m\u001b[0mtext_content\u001b[0m\u001b[0;34m(\u001b[0m\u001b[0;34m)\u001b[0m\u001b[0;34m.\u001b[0m\u001b[0mstrip\u001b[0m\u001b[0;34m(\u001b[0m\u001b[0;34m)\u001b[0m\u001b[0;34m)\u001b[0m\u001b[0;34m\u001b[0m\u001b[0;34m\u001b[0m\u001b[0m\n\u001b[0m\u001b[1;32m      4\u001b[0m \u001b[0;31m# print(tree.xpath(\".//span[@itemprop='name']\")[0].text_content().strip(), '\\n')\u001b[0m\u001b[0;34m\u001b[0m\u001b[0;34m\u001b[0m\u001b[0m\n\u001b[1;32m      5\u001b[0m \u001b[0mprint\u001b[0m\u001b[0;34m(\u001b[0m\u001b[0mtree\u001b[0m\u001b[0;34m.\u001b[0m\u001b[0mxpath\u001b[0m\u001b[0;34m(\u001b[0m\u001b[0;34m\".//meta[@itemprop='description']\"\u001b[0m\u001b[0;34m)\u001b[0m\u001b[0;34m[\u001b[0m\u001b[0;36m0\u001b[0m\u001b[0;34m]\u001b[0m\u001b[0;34m.\u001b[0m\u001b[0mget\u001b[0m\u001b[0;34m(\u001b[0m\u001b[0;34m\"content\"\u001b[0m\u001b[0;34m)\u001b[0m\u001b[0;34m,\u001b[0m \u001b[0;34m'\\n'\u001b[0m\u001b[0;34m)\u001b[0m\u001b[0;34m\u001b[0m\u001b[0;34m\u001b[0m\u001b[0m\n",
      "\u001b[0;31mIndexError\u001b[0m: list index out of range"
     ]
    }
   ],
   "source": [
    "tree = html.fromstring(page.text)\n",
    "print(tree.xpath(\".//h1\")[0].text_content())\n",
    "print(tree.xpath(\".//span[@itemprop='datePublished']\")[0].text_content().strip())\n",
    "# print(tree.xpath(\".//span[@itemprop='name']\")[0].text_content().strip(), '\\n')\n",
    "print(tree.xpath(\".//meta[@itemprop='description']\")[0].get(\"content\"), '\\n')\n",
    "\n",
    "for p in tree.xpath(\".//div[@itemprop='articleBody']/p\"):\n",
    "    print(p.text_content())"
   ]
  },
  {
   "cell_type": "code",
   "execution_count": null,
   "metadata": {},
   "outputs": [],
   "source": []
  },
  {
   "cell_type": "code",
   "execution_count": 45,
   "metadata": {},
   "outputs": [],
   "source": [
    "pdf1 = requests.get(\"https://cyberleninka.ru/article/n/semantiko-sintaksicheskoe-opisanie-glagolov-professionalnoy-deyatelnosti-iz-materialov-k-semantiko-grammaticheskomu-slovaryu/pdf\")"
   ]
  },
  {
   "cell_type": "code",
   "execution_count": 56,
   "metadata": {},
   "outputs": [
    {
     "data": {
      "text/plain": [
       "b\"%PDF-1.4\\n%\\xe2\\xe3\\xcf\\xd3\\n1 0 obj\\n<</Author(katya)/CreationDate(D:20200129093126+03'00')/Creator(Adobe InDesign CC 14.0 \\\\(Macintosh\\\\))/ModDate(D:20200224020154+03'00')/Producer(Acrobat Distiller 15.0 \\\\(Macintosh\""
      ]
     },
     "execution_count": 56,
     "metadata": {},
     "output_type": "execute_result"
    }
   ],
   "source": [
    "dir(pdf1)\n",
    "pdf1.content[:200]"
   ]
  },
  {
   "cell_type": "code",
   "execution_count": 51,
   "metadata": {},
   "outputs": [
    {
     "name": "stdout",
     "output_type": "stream",
     "text": [
      "Defaulting to user installation because normal site-packages is not writeable\n",
      "\u001b[33mWARNING: Retrying (Retry(total=4, connect=None, read=None, redirect=None, status=None)) after connection broken by 'ReadTimeoutError(\"HTTPSConnectionPool(host='pypi.org', port=443): Read timed out. (read timeout=15)\")': /simple/pypdf/\u001b[0m\u001b[33m\n",
      "\u001b[0mCollecting pypdf\n",
      "  Downloading pypdf-3.7.0-py3-none-any.whl (246 kB)\n",
      "\u001b[2K     \u001b[38;2;114;156;31m━━━━━━━━━━━━━━━━━━━━━━━━━━━━━━━━━━━━━━━\u001b[0m \u001b[32m246.9/246.9 KB\u001b[0m \u001b[31m2.2 MB/s\u001b[0m eta \u001b[36m0:00:00\u001b[0m[31m1.4 MB/s\u001b[0m eta \u001b[36m0:00:01\u001b[0m\n",
      "\u001b[?25hInstalling collected packages: pypdf\n",
      "Successfully installed pypdf-3.7.0\n"
     ]
    }
   ],
   "source": [
    "!pip install pypdf"
   ]
  },
  {
   "cell_type": "code",
   "execution_count": 54,
   "metadata": {},
   "outputs": [],
   "source": [
    "from pypdf import PdfReader\n",
    "import io"
   ]
  },
  {
   "cell_type": "code",
   "execution_count": 58,
   "metadata": {},
   "outputs": [],
   "source": [
    "f = io.BytesIO(pdf1.content)\n",
    "\n",
    "reader = PdfReader(f)"
   ]
  },
  {
   "cell_type": "code",
   "execution_count": 59,
   "metadata": {},
   "outputs": [],
   "source": [
    "number_of_pages = len(reader.pages)\n",
    "page = reader.pages[0]\n",
    "text = page.extract_text()"
   ]
  },
  {
   "cell_type": "code",
   "execution_count": 60,
   "metadata": {},
   "outputs": [
    {
     "data": {
      "text/plain": [
       "'УЧЕНЫЕ  ЗАПИСКИ  ПЕТРОЗАВОДСКОГО  ГОСУДАРСТВЕННОГО  УНИВЕРСИТЕТА\\n© Смирнова  Е. А., 2020Т. 42. № 1. С. 72–81 Языкознание  2020\\nDOI: 10.15393/uchz.art.2020.435УДК  81`1\\nЕКАТЕРИНА  АНДРЕЕВНА  СМИРНОВА\\nкандидат  филологических  наук , научный  сотрудник  секто -\\nра теоретической  семантики\\nФедеральное  государственное  бюджетное  учреждение  нау-\\nки Институт  русского  языка  имени  В. В. Виноградова  РАН  \\n(Москва , Российская  Федерация )\\nkatarzina@yandex.ru\\nСЕМАНТИКО -СИНТАКСИЧЕСКОЕ  ОПИСАНИЕ  ГЛАГОЛОВ  \\nПРОФЕССИОНАЛЬНОЙ  ДЕЯТЕЛЬНОСТИ  \\n(из материалов  к Семантико -грамматическому  словарю )*\\nПредставлено  описание  парадигматических  возможностей  глагольной  группы  профессиональ -\\nной деятельности  на -ничать  и выявлены  семантико -синтаксические  запреты  на образование  тех \\nили иных  глагольных  форм . На материале  Национального  корпуса  русского  языка  (НКРЯ ) показа -\\nны тенденции  в области  глагольного  словоизменения  и словообразования  внутри  данной  группы : \\nзаполненность  глагольных  парадигм  (степень  частотности  форм ), количество  употребляемых  в язы-\\nке значений , а также  их соответствие  парадигмам  и толкованиям , приводимым  в грамматических  \\nи толковых  словарях  русского  языка . Описываемый  класс  глаголов  профессиональной  деятельности  \\nна -ничать  анализируется  в Семантико -грамматическом  словаре  по следующим  параметрам : слово -\\nобразование  (акцентологический  тип), морфология  (объем  парадигмы ), лексическая  семантика  (ко-\\nличество  значений ), синтаксис  (типы  конструкций , набор  валентностей ), текст  (регистровые  условия , \\nсубъектная  перспектива ). Такой  подход  к обработке  языкового  материала  дает возможность  отсечь  по-\\nтенциальные  глагольные  формы , которые  описываются  в словарях  и приводят  к искажению  реальной  \\nкартины  употребления  глаголов . Группа  неизосемических  глаголов  на -ничать  демонстрирует  в языке  \\nпарадигматические  лакуны , отсутствие  полисемии , ограничение  функций  видо -временных  форм , \\nпри этом  наличие  словообразовательной  и семантической  синонимии , а также  большого  количества  \\nаналитических  конструкций . В конце  статьи  приводится  таблица , в которой  на примере  глагола  ма-\\nлярничать  представлено  актуальное  употребление  глагольных  форм  данной  семантической  группы .\\nКлючевые  слова : словообразование , морфология , лексическая  семантика , синтаксис , глагольная  парадигма\\nДля  цитирования :  Смирнова  Е. А. Семантико -синтаксическое  описание  глаголов  профессиональной  деятельности  \\n(из материалов  к Семантико -грамматическому  словарю ) // Ученые  записки  Петрозаводского  государственного  университе -\\nта. 2020. Т. 42. № 1. С. 72–81. DOI: 10.15393/uchz.art.2020.435\\nных периодов  функционирования  глагольных  \\nформ .\\nЦель  статьи  – выявление  на реальном  языко -\\nвом материале2 тенденций  в области  глагольно -\\nго словоизменения  и словообразования  внутри  \\nданной  группы : заполненность  глагольных  па-\\nрадигм  (степень  частотности  форм ), количество  \\nупотребляемых  в языке  значений , а также  их \\nсоответствие  парадигмам  и толкованиям , при-\\nводимым  в грамматических  и, соответственно , \\nтолковых  словарях  русского  языка ; контексту -\\nальная  обусловленность  значений , разные  тексто -\\nвые регистры . Такой  подход  к обработке  языко -\\nвого материала  предоставил  возможность  отсечь  \\nпотенциальные  глагольные  формы , которые  опи-\\nсываются  в словарях  [3] и приводят  к искаже -\\nнию реальной  картины  употребления  глаголов . \\nАнализ  грамматических  лакун  в глагольных  \\nпарадигмах  позволил  интерпретировать  семан -\\nтическую  классификацию  глаголов , представ -\\nленную  в «Русском  семантическом  словаре »3. \\nОписываемая  группа  неизосемических  глаголов  \\n[4] демонстрирует  в языке  парадигматические  \\nлакуны , отсутствие  полисемии , ограничение  ВВЕДЕНИЕ\\nВ статье  описывается  группа  глаголов  \\nпрофессиональной  деятельности  как одно -\\nго из функциональных  классов  находящегося  \\nна стадии  разработки  «Семантико -граммати -\\nческого  словаря  русских  глаголов ». Являясь  \\nсловарем  активного  типа , он обеспечивает  нуж-\\nды говорения  или, более  широко , нужды  произ -\\nводства  текстов : «Решение  этой  задачи  дости -\\nгается  помещением  в словарь  возможно  более  \\nполной  информации  обо всех  существенных  \\nдля правильной  речи  сторонах  слова , – его фор-\\nмах и значениях », условиях  его употребления , \\nего синонимах , антонимах  и т. д.1\\nСемантическая  группа  глаголов  со значением  \\nпрофессиональной  деятельности , часто  упоми -\\nнаемая  лингвистами  [1], [2] и др., до настоящего  \\nвремени  подробно  не описана . В статье  пред -\\nставлено  описание  парадигматических  возмож -\\nностей  глагольной  группы  и выявлены  семанти -\\nко-синтаксические  запреты  на образование  тех \\nили иных  форм , существующих  в текстах  конца  \\nXX – начала  XXI века. В некоторых  случаях  сде-\\nлана  ретроспекция  также  более  ранних  времен -'"
      ]
     },
     "execution_count": 60,
     "metadata": {},
     "output_type": "execute_result"
    }
   ],
   "source": [
    "text"
   ]
  },
  {
   "cell_type": "code",
   "execution_count": 61,
   "metadata": {},
   "outputs": [],
   "source": [
    "stream_url = 'https://radiorecord.hostingradio.ru/198096.aacp?listening-from-radio-garden=1680922353'\n",
    "r = requests.get(stream_url, stream=True)\n",
    "\n",
    "with open('stream.mp3', 'wb') as f:\n",
    "    try:\n",
    "        for block in r.iter_content(1024):\n",
    "            f.write(block)\n",
    "    except KeyboardInterrupt:\n",
    "        pass"
   ]
  }
 ],
 "metadata": {
  "kernelspec": {
   "display_name": "Python 3 (ipykernel)",
   "language": "python",
   "name": "python3"
  },
  "language_info": {
   "codemirror_mode": {
    "name": "ipython",
    "version": 3
   },
   "file_extension": ".py",
   "mimetype": "text/x-python",
   "name": "python",
   "nbconvert_exporter": "python",
   "pygments_lexer": "ipython3",
   "version": "3.10.6"
  }
 },
 "nbformat": 4,
 "nbformat_minor": 4
}
